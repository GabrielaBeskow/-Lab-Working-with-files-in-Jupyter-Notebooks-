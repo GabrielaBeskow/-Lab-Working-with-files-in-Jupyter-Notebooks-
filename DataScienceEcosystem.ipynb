{
 "cells": [
  {
   "cell_type": "markdown",
   "id": "94609205-66da-4c4e-808a-3878f463bda4",
   "metadata": {},
   "source": [
    "# Data Science Tools and Ecosystem"
   ]
  },
  {
   "cell_type": "markdown",
   "id": "3ce1a93e-9644-4a46-ab82-b725f0665acf",
   "metadata": {},
   "source": [
    "In this notebook, Data Science Tools and Ecosystem are summarized."
   ]
  },
  {
   "cell_type": "markdown",
   "id": "17f8f320-e74b-4003-8c78-492261e8a026",
   "metadata": {},
   "source": [
    "**Objectives**: \n",
    "- Popular languagues for Data Science\n",
    "- Commonly used libriries by Data Scientist \n",
    "- Data Science Tools"
   ]
  },
  {
   "cell_type": "markdown",
   "id": "5612c819-c135-4a37-870f-99f080b1652f",
   "metadata": {},
   "source": [
    "## Author \n",
    "Gabriela do Amaral Beskow"
   ]
  },
  {
   "cell_type": "markdown",
   "id": "e5db4d00-35a8-4ac7-9d39-5e563fb7a814",
   "metadata": {},
   "source": [
    "Some of the popular languages that Data Scientists use are:"
   ]
  },
  {
   "cell_type": "markdown",
   "id": "76ac5e0c-23df-4e90-9584-416aa8775091",
   "metadata": {},
   "source": [
    "1. Python \n",
    "2. Java \n",
    "3. C++"
   ]
  },
  {
   "cell_type": "markdown",
   "id": "0370abf9-4c77-4976-908a-c9c73069de7a",
   "metadata": {},
   "source": [
    "Some of the commonly used libraries used by Data Scientists include: \n",
    "1. Pandas \n",
    "2. Pytorch\n",
    "3. ggplot2\n"
   ]
  },
  {
   "cell_type": "markdown",
   "id": "e8c3bb51-6613-480e-8479-ffe3036ae6cf",
   "metadata": {},
   "source": [
    "| Data Science Tools |\n",
    "| ------------------ |\n",
    "| Jupyter            |\n",
    "| R Studio           |\n",
    "| Apache Zeppelin    |\n",
    "\n"
   ]
  },
  {
   "cell_type": "markdown",
   "id": "8dd88be1-668f-49b7-8c6e-3064166e4d9b",
   "metadata": {},
   "source": [
    "### Below are a few examples of evaluating arithmetic expressions in Python."
   ]
  },
  {
   "cell_type": "code",
   "execution_count": 16,
   "id": "b4919385-45f5-4905-9bef-f625bc47cc62",
   "metadata": {},
   "outputs": [
    {
     "data": {
      "text/plain": [
       "4"
      ]
     },
     "execution_count": 16,
     "metadata": {},
     "output_type": "execute_result"
    }
   ],
   "source": [
    "2+2"
   ]
  },
  {
   "cell_type": "code",
   "execution_count": 19,
   "id": "785cf022-2ce6-415f-b1b9-21f8cf57c0c2",
   "metadata": {},
   "outputs": [
    {
     "data": {
      "text/plain": [
       "17"
      ]
     },
     "execution_count": 19,
     "metadata": {},
     "output_type": "execute_result"
    }
   ],
   "source": [
    "# This a simple arithmetic expression to mutiply then add integers.\n",
    "(3*4)+5"
   ]
  },
  {
   "cell_type": "code",
   "execution_count": 21,
   "id": "8362d461-f90f-46cd-91c5-865961d46c7d",
   "metadata": {},
   "outputs": [
    {
     "data": {
      "text/plain": [
       "3.3333333333333335"
      ]
     },
     "execution_count": 21,
     "metadata": {},
     "output_type": "execute_result"
    }
   ],
   "source": [
    "# This will convert 200 minutes to hours by diving by 60.\n",
    "200/60"
   ]
  },
  {
   "cell_type": "code",
   "execution_count": null,
   "id": "00548d00-65ff-4b27-922e-4060b57450ea",
   "metadata": {},
   "outputs": [],
   "source": []
  }
 ],
 "metadata": {
  "kernelspec": {
   "display_name": "Python",
   "language": "python",
   "name": "conda-env-python-py"
  },
  "language_info": {
   "codemirror_mode": {
    "name": "ipython",
    "version": 3
   },
   "file_extension": ".py",
   "mimetype": "text/x-python",
   "name": "python",
   "nbconvert_exporter": "python",
   "pygments_lexer": "ipython3",
   "version": "3.7.12"
  }
 },
 "nbformat": 4,
 "nbformat_minor": 5
}
